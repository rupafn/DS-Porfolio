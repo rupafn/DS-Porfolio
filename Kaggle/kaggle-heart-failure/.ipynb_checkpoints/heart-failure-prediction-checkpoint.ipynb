{
 "cells": [
  {
   "cell_type": "code",
   "execution_count": 1,
   "id": "legendary-deposit",
   "metadata": {
    "_cell_guid": "b1076dfc-b9ad-4769-8c92-a6c4dae69d19",
    "_uuid": "8f2839f25d086af736a60e9eeb907d3b93b6e0e5",
    "execution": {
     "iopub.execute_input": "2021-05-19T08:26:57.693137Z",
     "iopub.status.busy": "2021-05-19T08:26:57.692376Z",
     "iopub.status.idle": "2021-05-19T08:26:57.707991Z",
     "shell.execute_reply": "2021-05-19T08:26:57.707162Z"
    },
    "papermill": {
     "duration": 0.052561,
     "end_time": "2021-05-19T08:26:57.708185",
     "exception": false,
     "start_time": "2021-05-19T08:26:57.655624",
     "status": "completed"
    },
    "tags": []
   },
   "outputs": [
    {
     "name": "stdout",
     "output_type": "stream",
     "text": [
      "/kaggle/input/heart-failure-clinical-data/heart_failure_clinical_records_dataset.csv\n"
     ]
    }
   ],
   "source": [
    "# This Python 3 environment comes with many helpful analytics libraries installed\n",
    "# It is defined by the kaggle/python Docker image: https://github.com/kaggle/docker-python\n",
    "# For example, here's several helpful packages to load\n",
    "\n",
    "import numpy as np # linear algebra\n",
    "import pandas as pd # data processing, CSV file I/O (e.g. pd.read_csv)\n",
    "\n",
    "# Input data files are available in the read-only \"../input/\" directory\n",
    "# For example, running this (by clicking run or pressing Shift+Enter) will list all files under the input directory\n",
    "\n",
    "import os\n",
    "for dirname, _, filenames in os.walk('/kaggle/input'):\n",
    "    for filename in filenames:\n",
    "        print(os.path.join(dirname, filename))\n",
    "\n",
    "# You can write up to 20GB to the current directory (/kaggle/working/) that gets preserved as output when you create a version using \"Save & Run All\" \n",
    "# You can also write temporary files to /kaggle/temp/, but they won't be saved outside of the current session"
   ]
  },
  {
   "cell_type": "code",
   "execution_count": 2,
   "id": "favorite-phase",
   "metadata": {
    "execution": {
     "iopub.execute_input": "2021-05-19T08:26:57.763937Z",
     "iopub.status.busy": "2021-05-19T08:26:57.763145Z",
     "iopub.status.idle": "2021-05-19T08:26:58.855566Z",
     "shell.execute_reply": "2021-05-19T08:26:58.854983Z"
    },
    "papermill": {
     "duration": 1.121048,
     "end_time": "2021-05-19T08:26:58.855726",
     "exception": false,
     "start_time": "2021-05-19T08:26:57.734678",
     "status": "completed"
    },
    "tags": []
   },
   "outputs": [],
   "source": [
    "import numpy as np\n",
    "import scipy as sp\n",
    "from scipy import stats\n",
    "import pandas as pd\n",
    "import matplotlib.pyplot as plt\n",
    "import seaborn as sns\n",
    "from sklearn.model_selection import train_test_split\n",
    "from sklearn.preprocessing import StandardScaler\n",
    "from sklearn.metrics import accuracy_score"
   ]
  },
  {
   "cell_type": "code",
   "execution_count": 3,
   "id": "moving-sunset",
   "metadata": {
    "execution": {
     "iopub.execute_input": "2021-05-19T08:26:58.909443Z",
     "iopub.status.busy": "2021-05-19T08:26:58.908694Z",
     "iopub.status.idle": "2021-05-19T08:26:58.924904Z",
     "shell.execute_reply": "2021-05-19T08:26:58.924186Z"
    },
    "papermill": {
     "duration": 0.045273,
     "end_time": "2021-05-19T08:26:58.925051",
     "exception": false,
     "start_time": "2021-05-19T08:26:58.879778",
     "status": "completed"
    },
    "tags": []
   },
   "outputs": [],
   "source": [
    "data = pd.read_csv('/kaggle/input/heart-failure-clinical-data/heart_failure_clinical_records_dataset.csv')"
   ]
  },
  {
   "cell_type": "code",
   "execution_count": 4,
   "id": "flying-democrat",
   "metadata": {
    "execution": {
     "iopub.execute_input": "2021-05-19T08:26:58.976684Z",
     "iopub.status.busy": "2021-05-19T08:26:58.976030Z",
     "iopub.status.idle": "2021-05-19T08:26:59.008251Z",
     "shell.execute_reply": "2021-05-19T08:26:59.008815Z"
    },
    "papermill": {
     "duration": 0.059602,
     "end_time": "2021-05-19T08:26:59.009004",
     "exception": false,
     "start_time": "2021-05-19T08:26:58.949402",
     "status": "completed"
    },
    "tags": []
   },
   "outputs": [
    {
     "data": {
      "text/html": [
       "<div>\n",
       "<style scoped>\n",
       "    .dataframe tbody tr th:only-of-type {\n",
       "        vertical-align: middle;\n",
       "    }\n",
       "\n",
       "    .dataframe tbody tr th {\n",
       "        vertical-align: top;\n",
       "    }\n",
       "\n",
       "    .dataframe thead th {\n",
       "        text-align: right;\n",
       "    }\n",
       "</style>\n",
       "<table border=\"1\" class=\"dataframe\">\n",
       "  <thead>\n",
       "    <tr style=\"text-align: right;\">\n",
       "      <th></th>\n",
       "      <th>age</th>\n",
       "      <th>anaemia</th>\n",
       "      <th>creatinine_phosphokinase</th>\n",
       "      <th>diabetes</th>\n",
       "      <th>ejection_fraction</th>\n",
       "      <th>high_blood_pressure</th>\n",
       "      <th>platelets</th>\n",
       "      <th>serum_creatinine</th>\n",
       "      <th>serum_sodium</th>\n",
       "      <th>sex</th>\n",
       "      <th>smoking</th>\n",
       "      <th>time</th>\n",
       "      <th>DEATH_EVENT</th>\n",
       "    </tr>\n",
       "  </thead>\n",
       "  <tbody>\n",
       "    <tr>\n",
       "      <th>0</th>\n",
       "      <td>75.0</td>\n",
       "      <td>0</td>\n",
       "      <td>582</td>\n",
       "      <td>0</td>\n",
       "      <td>20</td>\n",
       "      <td>1</td>\n",
       "      <td>265000.00</td>\n",
       "      <td>1.9</td>\n",
       "      <td>130</td>\n",
       "      <td>1</td>\n",
       "      <td>0</td>\n",
       "      <td>4</td>\n",
       "      <td>1</td>\n",
       "    </tr>\n",
       "    <tr>\n",
       "      <th>1</th>\n",
       "      <td>55.0</td>\n",
       "      <td>0</td>\n",
       "      <td>7861</td>\n",
       "      <td>0</td>\n",
       "      <td>38</td>\n",
       "      <td>0</td>\n",
       "      <td>263358.03</td>\n",
       "      <td>1.1</td>\n",
       "      <td>136</td>\n",
       "      <td>1</td>\n",
       "      <td>0</td>\n",
       "      <td>6</td>\n",
       "      <td>1</td>\n",
       "    </tr>\n",
       "    <tr>\n",
       "      <th>2</th>\n",
       "      <td>65.0</td>\n",
       "      <td>0</td>\n",
       "      <td>146</td>\n",
       "      <td>0</td>\n",
       "      <td>20</td>\n",
       "      <td>0</td>\n",
       "      <td>162000.00</td>\n",
       "      <td>1.3</td>\n",
       "      <td>129</td>\n",
       "      <td>1</td>\n",
       "      <td>1</td>\n",
       "      <td>7</td>\n",
       "      <td>1</td>\n",
       "    </tr>\n",
       "    <tr>\n",
       "      <th>3</th>\n",
       "      <td>50.0</td>\n",
       "      <td>1</td>\n",
       "      <td>111</td>\n",
       "      <td>0</td>\n",
       "      <td>20</td>\n",
       "      <td>0</td>\n",
       "      <td>210000.00</td>\n",
       "      <td>1.9</td>\n",
       "      <td>137</td>\n",
       "      <td>1</td>\n",
       "      <td>0</td>\n",
       "      <td>7</td>\n",
       "      <td>1</td>\n",
       "    </tr>\n",
       "    <tr>\n",
       "      <th>4</th>\n",
       "      <td>65.0</td>\n",
       "      <td>1</td>\n",
       "      <td>160</td>\n",
       "      <td>1</td>\n",
       "      <td>20</td>\n",
       "      <td>0</td>\n",
       "      <td>327000.00</td>\n",
       "      <td>2.7</td>\n",
       "      <td>116</td>\n",
       "      <td>0</td>\n",
       "      <td>0</td>\n",
       "      <td>8</td>\n",
       "      <td>1</td>\n",
       "    </tr>\n",
       "  </tbody>\n",
       "</table>\n",
       "</div>"
      ],
      "text/plain": [
       "    age  anaemia  creatinine_phosphokinase  diabetes  ejection_fraction  \\\n",
       "0  75.0        0                       582         0                 20   \n",
       "1  55.0        0                      7861         0                 38   \n",
       "2  65.0        0                       146         0                 20   \n",
       "3  50.0        1                       111         0                 20   \n",
       "4  65.0        1                       160         1                 20   \n",
       "\n",
       "   high_blood_pressure  platelets  serum_creatinine  serum_sodium  sex  \\\n",
       "0                    1  265000.00               1.9           130    1   \n",
       "1                    0  263358.03               1.1           136    1   \n",
       "2                    0  162000.00               1.3           129    1   \n",
       "3                    0  210000.00               1.9           137    1   \n",
       "4                    0  327000.00               2.7           116    0   \n",
       "\n",
       "   smoking  time  DEATH_EVENT  \n",
       "0        0     4            1  \n",
       "1        0     6            1  \n",
       "2        1     7            1  \n",
       "3        0     7            1  \n",
       "4        0     8            1  "
      ]
     },
     "execution_count": 4,
     "metadata": {},
     "output_type": "execute_result"
    }
   ],
   "source": [
    "data.head()"
   ]
  },
  {
   "cell_type": "markdown",
   "id": "fixed-institution",
   "metadata": {
    "papermill": {
     "duration": 0.030352,
     "end_time": "2021-05-19T08:26:59.071923",
     "exception": false,
     "start_time": "2021-05-19T08:26:59.041571",
     "status": "completed"
    },
    "tags": []
   },
   "source": [
    "We will first do an exploratory data analysis of the heart failure clinical dataset"
   ]
  },
  {
   "cell_type": "code",
   "execution_count": 5,
   "id": "olive-builder",
   "metadata": {
    "execution": {
     "iopub.execute_input": "2021-05-19T08:26:59.135875Z",
     "iopub.status.busy": "2021-05-19T08:26:59.135217Z",
     "iopub.status.idle": "2021-05-19T08:26:59.141925Z",
     "shell.execute_reply": "2021-05-19T08:26:59.142479Z"
    },
    "papermill": {
     "duration": 0.03815,
     "end_time": "2021-05-19T08:26:59.142670",
     "exception": false,
     "start_time": "2021-05-19T08:26:59.104520",
     "status": "completed"
    },
    "tags": []
   },
   "outputs": [
    {
     "data": {
      "text/plain": [
       "age                         float64\n",
       "anaemia                       int64\n",
       "creatinine_phosphokinase      int64\n",
       "diabetes                      int64\n",
       "ejection_fraction             int64\n",
       "high_blood_pressure           int64\n",
       "platelets                   float64\n",
       "serum_creatinine            float64\n",
       "serum_sodium                  int64\n",
       "sex                           int64\n",
       "smoking                       int64\n",
       "time                          int64\n",
       "DEATH_EVENT                   int64\n",
       "dtype: object"
      ]
     },
     "execution_count": 5,
     "metadata": {},
     "output_type": "execute_result"
    }
   ],
   "source": [
    "# Check data types\n",
    "data.dtypes"
   ]
  },
  {
   "cell_type": "markdown",
   "id": "rotary-clothing",
   "metadata": {
    "papermill": {
     "duration": 0.025291,
     "end_time": "2021-05-19T08:26:59.193011",
     "exception": false,
     "start_time": "2021-05-19T08:26:59.167720",
     "status": "completed"
    },
    "tags": []
   },
   "source": []
  },
  {
   "cell_type": "code",
   "execution_count": 6,
   "id": "peaceful-easter",
   "metadata": {
    "execution": {
     "iopub.execute_input": "2021-05-19T08:26:59.246067Z",
     "iopub.status.busy": "2021-05-19T08:26:59.245440Z",
     "iopub.status.idle": "2021-05-19T08:26:59.263661Z",
     "shell.execute_reply": "2021-05-19T08:26:59.263124Z"
    },
    "papermill": {
     "duration": 0.046044,
     "end_time": "2021-05-19T08:26:59.263831",
     "exception": false,
     "start_time": "2021-05-19T08:26:59.217787",
     "status": "completed"
    },
    "tags": []
   },
   "outputs": [
    {
     "name": "stdout",
     "output_type": "stream",
     "text": [
      "no of duplicate rows: (0, 13)\n"
     ]
    }
   ],
   "source": [
    "# Drop duplicate rows\n",
    "duplicates = data[data.duplicated()]\n",
    "print('no of duplicate rows:',duplicates.shape)\n",
    "# there are no duplicate rows, so we don't have to remove anything"
   ]
  },
  {
   "cell_type": "code",
   "execution_count": 7,
   "id": "canadian-motion",
   "metadata": {
    "execution": {
     "iopub.execute_input": "2021-05-19T08:26:59.323663Z",
     "iopub.status.busy": "2021-05-19T08:26:59.322984Z",
     "iopub.status.idle": "2021-05-19T08:26:59.327591Z",
     "shell.execute_reply": "2021-05-19T08:26:59.326939Z"
    },
    "papermill": {
     "duration": 0.03683,
     "end_time": "2021-05-19T08:26:59.327734",
     "exception": false,
     "start_time": "2021-05-19T08:26:59.290904",
     "status": "completed"
    },
    "tags": []
   },
   "outputs": [
    {
     "name": "stdout",
     "output_type": "stream",
     "text": [
      "Number of null values\n",
      "age                         0\n",
      "anaemia                     0\n",
      "creatinine_phosphokinase    0\n",
      "diabetes                    0\n",
      "ejection_fraction           0\n",
      "high_blood_pressure         0\n",
      "platelets                   0\n",
      "serum_creatinine            0\n",
      "serum_sodium                0\n",
      "sex                         0\n",
      "smoking                     0\n",
      "time                        0\n",
      "DEATH_EVENT                 0\n",
      "dtype: int64\n"
     ]
    }
   ],
   "source": [
    "# Drop missing/null values\n",
    "print('Number of null values')\n",
    "print(data.isnull().sum())\n",
    "# there are no null values"
   ]
  },
  {
   "cell_type": "code",
   "execution_count": 8,
   "id": "chemical-chamber",
   "metadata": {
    "execution": {
     "iopub.execute_input": "2021-05-19T08:26:59.386945Z",
     "iopub.status.busy": "2021-05-19T08:26:59.385927Z",
     "iopub.status.idle": "2021-05-19T08:26:59.411519Z",
     "shell.execute_reply": "2021-05-19T08:26:59.410727Z"
    },
    "papermill": {
     "duration": 0.058036,
     "end_time": "2021-05-19T08:26:59.411681",
     "exception": false,
     "start_time": "2021-05-19T08:26:59.353645",
     "status": "completed"
    },
    "tags": []
   },
   "outputs": [
    {
     "data": {
      "text/plain": [
       "age                         299\n",
       "anaemia                     299\n",
       "creatinine_phosphokinase    299\n",
       "diabetes                    299\n",
       "ejection_fraction           299\n",
       "high_blood_pressure         299\n",
       "platelets                   299\n",
       "serum_creatinine            299\n",
       "serum_sodium                299\n",
       "sex                         299\n",
       "smoking                     299\n",
       "time                        299\n",
       "DEATH_EVENT                 299\n",
       "dtype: int64"
      ]
     },
     "execution_count": 8,
     "metadata": {},
     "output_type": "execute_result"
    }
   ],
   "source": [
    "data = data.dropna()\n",
    "data.count()"
   ]
  },
  {
   "cell_type": "markdown",
   "id": "cloudy-apple",
   "metadata": {
    "papermill": {
     "duration": 0.025968,
     "end_time": "2021-05-19T08:26:59.464032",
     "exception": false,
     "start_time": "2021-05-19T08:26:59.438064",
     "status": "completed"
    },
    "tags": []
   },
   "source": [
    "Now that we have checked for null/missing values and duplicate rows, \n",
    "we will detect outliers and remove them so that the model is not affected by extreme high or low values"
   ]
  },
  {
   "cell_type": "code",
   "execution_count": 9,
   "id": "included-winner",
   "metadata": {
    "execution": {
     "iopub.execute_input": "2021-05-19T08:26:59.521739Z",
     "iopub.status.busy": "2021-05-19T08:26:59.520780Z",
     "iopub.status.idle": "2021-05-19T08:26:59.694308Z",
     "shell.execute_reply": "2021-05-19T08:26:59.694926Z"
    },
    "papermill": {
     "duration": 0.203532,
     "end_time": "2021-05-19T08:26:59.695105",
     "exception": false,
     "start_time": "2021-05-19T08:26:59.491573",
     "status": "completed"
    },
    "tags": []
   },
   "outputs": [
    {
     "data": {
      "text/plain": [
       "<AxesSubplot:xlabel='creatinine_phosphokinase'>"
      ]
     },
     "execution_count": 9,
     "metadata": {},
     "output_type": "execute_result"
    },
    {
     "data": {
      "image/png": "[encoded data removed]",
      "text/plain": [
       "<Figure size 432x288 with 1 Axes>"
      ]
     },
     "metadata": {
      "needs_background": "light"
     },
     "output_type": "display_data"
    }
   ],
   "source": [
    "# sns.boxplot(x=data['age'])\n",
    "sns.boxplot(x=data['creatinine_phosphokinase'])"
   ]
  },
  {
   "cell_type": "code",
   "execution_count": 10,
   "id": "august-incidence",
   "metadata": {
    "execution": {
     "iopub.execute_input": "2021-05-19T08:26:59.793004Z",
     "iopub.status.busy": "2021-05-19T08:26:59.791539Z",
     "iopub.status.idle": "2021-05-19T08:26:59.939626Z",
     "shell.execute_reply": "2021-05-19T08:26:59.940179Z"
    },
    "papermill": {
     "duration": 0.205299,
     "end_time": "2021-05-19T08:26:59.940376",
     "exception": false,
     "start_time": "2021-05-19T08:26:59.735077",
     "status": "completed"
    },
    "tags": []
   },
   "outputs": [
    {
     "data": {
      "text/plain": [
       "<AxesSubplot:xlabel='ejection_fraction'>"
      ]
     },
     "execution_count": 10,
     "metadata": {},
     "output_type": "execute_result"
    },
    {
     "data": {
      "image/png": "[encoded data removed]",
      "text/plain": [
       "<Figure size 432x288 with 1 Axes>"
      ]
     },
     "metadata": {
      "needs_background": "light"
     },
     "output_type": "display_data"
    }
   ],
   "source": [
    "sns.boxplot(x=data['ejection_fraction'])"
   ]
  },
  {
   "cell_type": "code",
   "execution_count": 11,
   "id": "split-service",
   "metadata": {
    "execution": {
     "iopub.execute_input": "2021-05-19T08:27:00.054913Z",
     "iopub.status.busy": "2021-05-19T08:27:00.045778Z",
     "iopub.status.idle": "2021-05-19T08:27:00.163481Z",
     "shell.execute_reply": "2021-05-19T08:27:00.164020Z"
    },
    "papermill": {
     "duration": 0.171791,
     "end_time": "2021-05-19T08:27:00.164251",
     "exception": false,
     "start_time": "2021-05-19T08:26:59.992460",
     "status": "completed"
    },
    "tags": []
   },
   "outputs": [
    {
     "data": {
      "text/plain": [
       "<AxesSubplot:xlabel='platelets'>"
      ]
     },
     "execution_count": 11,
     "metadata": {},
     "output_type": "execute_result"
    },
    {
     "data": {
      "image/png": "[encoded data removed]",
      "text/plain": [
       "<Figure size 432x288 with 1 Axes>"
      ]
     },
     "metadata": {
      "needs_background": "light"
     },
     "output_type": "display_data"
    }
   ],
   "source": [
    "sns.boxplot(x=data['platelets'])"
   ]
  },
  {
   "cell_type": "code",
   "execution_count": 12,
   "id": "medical-weapon",
   "metadata": {
    "execution": {
     "iopub.execute_input": "2021-05-19T08:27:00.278255Z",
     "iopub.status.busy": "2021-05-19T08:27:00.272250Z",
     "iopub.status.idle": "2021-05-19T08:27:00.361027Z",
     "shell.execute_reply": "2021-05-19T08:27:00.360084Z"
    },
    "papermill": {
     "duration": 0.157151,
     "end_time": "2021-05-19T08:27:00.361328",
     "exception": false,
     "start_time": "2021-05-19T08:27:00.204177",
     "status": "completed"
    },
    "tags": []
   },
   "outputs": [
    {
     "data": {
      "text/plain": [
       "<AxesSubplot:xlabel='serum_creatinine'>"
      ]
     },
     "execution_count": 12,
     "metadata": {},
     "output_type": "execute_result"
    },
    {
     "data": {
      "image/png": "[encoded data removed]",
      "text/plain": [
       "<Figure size 432x288 with 1 Axes>"
      ]
     },
     "metadata": {
      "needs_background": "light"
     },
     "output_type": "display_data"
    }
   ],
   "source": [
    "sns.boxplot(x=data['serum_creatinine'])\n"
   ]
  },
  {
   "cell_type": "code",
   "execution_count": 13,
   "id": "minus-terror",
   "metadata": {
    "execution": {
     "iopub.execute_input": "2021-05-19T08:27:00.473610Z",
     "iopub.status.busy": "2021-05-19T08:27:00.464126Z",
     "iopub.status.idle": "2021-05-19T08:27:00.586773Z",
     "shell.execute_reply": "2021-05-19T08:27:00.586127Z"
    },
    "papermill": {
     "duration": 0.185493,
     "end_time": "2021-05-19T08:27:00.586937",
     "exception": false,
     "start_time": "2021-05-19T08:27:00.401444",
     "status": "completed"
    },
    "tags": []
   },
   "outputs": [
    {
     "data": {
      "text/plain": [
       "<AxesSubplot:xlabel='serum_sodium'>"
      ]
     },
     "execution_count": 13,
     "metadata": {},
     "output_type": "execute_result"
    },
    {
     "data": {
      "image/png": "[encoded data removed]",
      "text/plain": [
       "<Figure size 432x288 with 1 Axes>"
      ]
     },
     "metadata": {
      "needs_background": "light"
     },
     "output_type": "display_data"
    }
   ],
   "source": [
    "sns.boxplot(x=data['serum_sodium'])\n"
   ]
  },
  {
   "cell_type": "code",
   "execution_count": 14,
   "id": "suburban-barcelona",
   "metadata": {
    "execution": {
     "iopub.execute_input": "2021-05-19T08:27:00.794066Z",
     "iopub.status.busy": "2021-05-19T08:27:00.789159Z",
     "iopub.status.idle": "2021-05-19T08:27:00.891124Z",
     "shell.execute_reply": "2021-05-19T08:27:00.891628Z"
    },
    "papermill": {
     "duration": 0.273677,
     "end_time": "2021-05-19T08:27:00.892126",
     "exception": false,
     "start_time": "2021-05-19T08:27:00.618449",
     "status": "completed"
    },
    "tags": []
   },
   "outputs": [
    {
     "data": {
      "text/plain": [
       "<AxesSubplot:xlabel='time'>"
      ]
     },
     "execution_count": 14,
     "metadata": {},
     "output_type": "execute_result"
    },
    {
     "data": {
      "image/png": "[encoded data removed]",
      "text/plain": [
       "<Figure size 432x288 with 1 Axes>"
      ]
     },
     "metadata": {
      "needs_background": "light"
     },
     "output_type": "display_data"
    }
   ],
   "source": [
    "sns.boxplot(x=data['time'])"
   ]
  },
  {
   "cell_type": "markdown",
   "id": "three-nebraska",
   "metadata": {
    "papermill": {
     "duration": 0.032193,
     "end_time": "2021-05-19T08:27:00.957646",
     "exception": false,
     "start_time": "2021-05-19T08:27:00.925453",
     "status": "completed"
    },
    "tags": []
   },
   "source": [
    "We will use IQR method to find the list of outliers. ie. to remove values that falls outside 1.5IQR below Q1 and 1.5IQR above Q3"
   ]
  },
  {
   "cell_type": "code",
   "execution_count": 15,
   "id": "express-courage",
   "metadata": {
    "execution": {
     "iopub.execute_input": "2021-05-19T08:27:01.029075Z",
     "iopub.status.busy": "2021-05-19T08:27:01.028419Z",
     "iopub.status.idle": "2021-05-19T08:27:01.037031Z",
     "shell.execute_reply": "2021-05-19T08:27:01.036515Z"
    },
    "papermill": {
     "duration": 0.047232,
     "end_time": "2021-05-19T08:27:01.037185",
     "exception": false,
     "start_time": "2021-05-19T08:27:00.989953",
     "status": "completed"
    },
    "tags": []
   },
   "outputs": [
    {
     "data": {
      "text/plain": [
       "age                            22.50\n",
       "anaemia                        -1.50\n",
       "creatinine_phosphokinase     -581.75\n",
       "diabetes                       -1.50\n",
       "ejection_fraction               7.50\n",
       "high_blood_pressure            -1.50\n",
       "platelets                   76000.00\n",
       "serum_creatinine                0.15\n",
       "serum_sodium                  125.00\n",
       "sex                            -1.50\n",
       "smoking                        -1.50\n",
       "time                         -122.00\n",
       "DEATH_EVENT                    -1.50\n",
       "dtype: float64"
      ]
     },
     "execution_count": 15,
     "metadata": {},
     "output_type": "execute_result"
    }
   ],
   "source": [
    "Q1 = data.quantile(0.25)\n",
    "Q3 = data.quantile(0.75)\n",
    "IQR = Q3-Q1\n",
    "\n",
    "# df = (data <(Q1 - 1.5*IQR)) | (data > (Q3 + 1.5*IQR))\n",
    "Q1 - 1.5*IQR"
   ]
  },
  {
   "cell_type": "code",
   "execution_count": 16,
   "id": "casual-encyclopedia",
   "metadata": {
    "execution": {
     "iopub.execute_input": "2021-05-19T08:27:01.123737Z",
     "iopub.status.busy": "2021-05-19T08:27:01.123073Z",
     "iopub.status.idle": "2021-05-19T08:27:01.125033Z",
     "shell.execute_reply": "2021-05-19T08:27:01.125471Z"
    },
    "papermill": {
     "duration": 0.055392,
     "end_time": "2021-05-19T08:27:01.125643",
     "exception": false,
     "start_time": "2021-05-19T08:27:01.070251",
     "status": "completed"
    },
    "tags": []
   },
   "outputs": [],
   "source": [
    "# For each of the features we visualized bloxplot above, we will take value that lies within Q1-1.5IQR and Q3+1.5IQR (this will eliminate any outliers)\n",
    "# creatinine_phosphokinase\n",
    "data = data[data['creatinine_phosphokinase']>= Q1['creatinine_phosphokinase'] - 1.5*IQR['creatinine_phosphokinase']]\n",
    "data = data[data['creatinine_phosphokinase']<= Q3['creatinine_phosphokinase'] + 1.5*IQR['creatinine_phosphokinase']]\n",
    "\n",
    "# ejection_fraction\n",
    "data = data[data['ejection_fraction']>= Q1['ejection_fraction'] - 1.5*IQR['ejection_fraction']]\n",
    "data = data[data['ejection_fraction']<= Q3['ejection_fraction'] + 1.5*IQR['ejection_fraction']]\n",
    "\n",
    "# platelets\n",
    "data = data[data['platelets']>= Q1['platelets'] - 1.5*IQR['platelets']]\n",
    "data = data[data['platelets']<= Q3['platelets'] + 1.5*IQR['platelets']]\n",
    "\n",
    "# serum_creatinine\n",
    "data = data[data['serum_creatinine']>= Q1['serum_creatinine'] - 1.5*IQR['serum_creatinine']]\n",
    "data = data[data['serum_creatinine']<= Q3['serum_creatinine'] + 1.5*IQR['serum_creatinine']]\n",
    "\n",
    "# serum_sodium\n",
    "data = data[data['serum_sodium']>= Q1['serum_sodium'] - 1.5*IQR['serum_sodium']]\n",
    "data = data[data['serum_sodium']<= Q3['serum_sodium'] + 1.5*IQR['serum_sodium']]\n",
    "\n",
    "# time\n",
    "data = data[data['time']>= Q1['time'] - 1.5*IQR['time']]\n",
    "data = data[data['time']<= Q3['time'] + 1.5*IQR['time']]"
   ]
  },
  {
   "cell_type": "code",
   "execution_count": 17,
   "id": "recent-associate",
   "metadata": {
    "execution": {
     "iopub.execute_input": "2021-05-19T08:27:01.194895Z",
     "iopub.status.busy": "2021-05-19T08:27:01.194228Z",
     "iopub.status.idle": "2021-05-19T08:27:01.198379Z",
     "shell.execute_reply": "2021-05-19T08:27:01.198961Z"
    },
    "papermill": {
     "duration": 0.040551,
     "end_time": "2021-05-19T08:27:01.199153",
     "exception": false,
     "start_time": "2021-05-19T08:27:01.158602",
     "status": "completed"
    },
    "tags": []
   },
   "outputs": [
    {
     "data": {
      "text/plain": [
       "(224, 13)"
      ]
     },
     "execution_count": 17,
     "metadata": {},
     "output_type": "execute_result"
    }
   ],
   "source": [
    "# after eliminating outliers we get this shape\n",
    "data.shape"
   ]
  },
  {
   "cell_type": "code",
   "execution_count": 18,
   "id": "partial-blanket",
   "metadata": {
    "execution": {
     "iopub.execute_input": "2021-05-19T08:27:01.272980Z",
     "iopub.status.busy": "2021-05-19T08:27:01.272274Z",
     "iopub.status.idle": "2021-05-19T08:27:02.480473Z",
     "shell.execute_reply": "2021-05-19T08:27:02.480984Z"
    },
    "papermill": {
     "duration": 1.248467,
     "end_time": "2021-05-19T08:27:02.481164",
     "exception": false,
     "start_time": "2021-05-19T08:27:01.232697",
     "status": "completed"
    },
    "tags": []
   },
   "outputs": [
    {
     "data": {
      "text/plain": [
       "<AxesSubplot:>"
      ]
     },
     "execution_count": 18,
     "metadata": {},
     "output_type": "execute_result"
    },
    {
     "data": {
      "image/png": "[encoded data removed]",
      "text/plain": [
       "<Figure size 1440x720 with 2 Axes>"
      ]
     },
     "metadata": {
      "needs_background": "light"
     },
     "output_type": "display_data"
    }
   ],
   "source": [
    "# find correlation between variables\n",
    "# Finding the relations between the variables.\n",
    "plt.figure(figsize=(20,10))\n",
    "\n",
    "sns.heatmap(data.corr(),cmap='BrBG',annot=True)"
   ]
  },
  {
   "cell_type": "markdown",
   "id": "requested-resistance",
   "metadata": {
    "papermill": {
     "duration": 0.036762,
     "end_time": "2021-05-19T08:27:02.555736",
     "exception": false,
     "start_time": "2021-05-19T08:27:02.518974",
     "status": "completed"
    },
    "tags": []
   },
   "source": [
    "1. Death_Event mainly depends on serum creatinine and age\n",
    "2. non of the features are highly correlated to one another"
   ]
  },
  {
   "cell_type": "markdown",
   "id": "amazing-virus",
   "metadata": {
    "papermill": {
     "duration": 0.036747,
     "end_time": "2021-05-19T08:27:02.630403",
     "exception": false,
     "start_time": "2021-05-19T08:27:02.593656",
     "status": "completed"
    },
    "tags": []
   },
   "source": [
    "Now we will create the Machine learning models\n"
   ]
  },
  {
   "cell_type": "markdown",
   "id": "enclosed-bread",
   "metadata": {
    "papermill": {
     "duration": 0.037215,
     "end_time": "2021-05-19T08:27:02.705290",
     "exception": false,
     "start_time": "2021-05-19T08:27:02.668075",
     "status": "completed"
    },
    "tags": []
   },
   "source": []
  },
  {
   "cell_type": "code",
   "execution_count": 19,
   "id": "medical-output",
   "metadata": {
    "execution": {
     "iopub.execute_input": "2021-05-19T08:27:02.791130Z",
     "iopub.status.busy": "2021-05-19T08:27:02.790130Z",
     "iopub.status.idle": "2021-05-19T08:27:02.793365Z",
     "shell.execute_reply": "2021-05-19T08:27:02.792876Z"
    },
    "papermill": {
     "duration": 0.050538,
     "end_time": "2021-05-19T08:27:02.793505",
     "exception": false,
     "start_time": "2021-05-19T08:27:02.742967",
     "status": "completed"
    },
    "tags": []
   },
   "outputs": [],
   "source": [
    "# Create train and test set\n",
    "y = data['DEATH_EVENT']\n",
    "x = data.iloc[:,0:-1]\n",
    "X_train, X_test, y_train, y_test = train_test_split(x, y, test_size=0.33, random_state=42)"
   ]
  },
  {
   "cell_type": "code",
   "execution_count": 20,
   "id": "needed-retail",
   "metadata": {
    "execution": {
     "iopub.execute_input": "2021-05-19T08:27:02.883731Z",
     "iopub.status.busy": "2021-05-19T08:27:02.878167Z",
     "iopub.status.idle": "2021-05-19T08:27:02.887728Z",
     "shell.execute_reply": "2021-05-19T08:27:02.887104Z"
    },
    "papermill": {
     "duration": 0.056223,
     "end_time": "2021-05-19T08:27:02.887894",
     "exception": false,
     "start_time": "2021-05-19T08:27:02.831671",
     "status": "completed"
    },
    "tags": []
   },
   "outputs": [],
   "source": [
    "# scale data\n",
    "scaler = StandardScaler()\n",
    "scaler.fit(X_train)\n",
    "X_train = scaler.transform(X_train)\n",
    "X_test = scaler.transform(X_test)"
   ]
  },
  {
   "cell_type": "code",
   "execution_count": 21,
   "id": "scenic-enhancement",
   "metadata": {
    "execution": {
     "iopub.execute_input": "2021-05-19T08:27:02.970200Z",
     "iopub.status.busy": "2021-05-19T08:27:02.969552Z",
     "iopub.status.idle": "2021-05-19T08:27:03.086661Z",
     "shell.execute_reply": "2021-05-19T08:27:03.086112Z"
    },
    "papermill": {
     "duration": 0.160537,
     "end_time": "2021-05-19T08:27:03.086832",
     "exception": false,
     "start_time": "2021-05-19T08:27:02.926295",
     "status": "completed"
    },
    "tags": []
   },
   "outputs": [
    {
     "name": "stdout",
     "output_type": "stream",
     "text": [
      "              precision    recall  f1-score   support\n",
      "\n",
      "           0       0.84      0.95      0.89        56\n",
      "           1       0.73      0.44      0.55        18\n",
      "\n",
      "    accuracy                           0.82        74\n",
      "   macro avg       0.78      0.70      0.72        74\n",
      "weighted avg       0.81      0.82      0.81        74\n",
      "\n",
      "Accuracy LR: 0.8243243243243243\n"
     ]
    }
   ],
   "source": [
    "# LOGISTIC REGRESSION\n",
    "from sklearn.metrics import classification_report\n",
    "from sklearn.linear_model import LogisticRegression\n",
    "from sklearn.metrics import roc_auc_score\n",
    "logmodel = LogisticRegression()\n",
    "logmodel.fit(X_train, y_train)\n",
    "log_predictions = logmodel.predict(X_test)\n",
    "print(classification_report(y_test,log_predictions))\n",
    "print('Accuracy LR:',accuracy_score(y_test,log_predictions))"
   ]
  },
  {
   "cell_type": "code",
   "execution_count": 22,
   "id": "consistent-antigua",
   "metadata": {
    "execution": {
     "iopub.execute_input": "2021-05-19T08:27:03.171673Z",
     "iopub.status.busy": "2021-05-19T08:27:03.171018Z",
     "iopub.status.idle": "2021-05-19T08:27:04.406590Z",
     "shell.execute_reply": "2021-05-19T08:27:04.406033Z"
    },
    "papermill": {
     "duration": 1.280416,
     "end_time": "2021-05-19T08:27:04.406752",
     "exception": false,
     "start_time": "2021-05-19T08:27:03.126336",
     "status": "completed"
    },
    "tags": []
   },
   "outputs": [
    {
     "name": "stdout",
     "output_type": "stream",
     "text": [
      "runnin:  1\n",
      "KNN 0.6756756756756757\n",
      "runnin:  2\n",
      "KNN 0.7432432432432432\n",
      "runnin:  3\n",
      "KNN 0.7432432432432432\n",
      "runnin:  4\n",
      "KNN 0.7837837837837838\n",
      "runnin:  5\n",
      "KNN 0.7837837837837838\n",
      "runnin:  6\n",
      "KNN 0.7837837837837838\n",
      "runnin:  7\n",
      "KNN 0.7837837837837838\n",
      "runnin:  8\n",
      "KNN 0.7702702702702703\n",
      "runnin:  9\n",
      "KNN 0.7837837837837838\n",
      "runnin:  10\n",
      "KNN 0.7837837837837838\n",
      "runnin:  11\n",
      "KNN 0.7837837837837838\n",
      "runnin:  12\n",
      "KNN 0.7567567567567568\n",
      "runnin:  13\n",
      "KNN 0.7567567567567568\n",
      "runnin:  14\n",
      "KNN 0.7567567567567568\n",
      "runnin:  15\n",
      "KNN 0.7567567567567568\n",
      "runnin:  16\n",
      "KNN 0.7567567567567568\n",
      "runnin:  17\n",
      "KNN 0.7567567567567568\n",
      "runnin:  18\n",
      "KNN 0.7567567567567568\n",
      "runnin:  19\n",
      "KNN 0.7567567567567568\n",
      "runnin:  20\n",
      "KNN 0.7567567567567568\n",
      "runnin:  21\n",
      "KNN 0.7567567567567568\n",
      "runnin:  22\n",
      "KNN 0.7567567567567568\n",
      "runnin:  23\n",
      "KNN 0.7567567567567568\n",
      "runnin:  24\n",
      "KNN 0.7567567567567568\n",
      "runnin:  25\n",
      "KNN 0.7567567567567568\n",
      "runnin:  26\n",
      "KNN 0.7567567567567568\n",
      "runnin:  27\n",
      "KNN 0.7567567567567568\n",
      "runnin:  28\n",
      "KNN 0.7567567567567568\n",
      "runnin:  29\n",
      "KNN 0.7567567567567568\n",
      "runnin:  30\n",
      "KNN 0.7567567567567568\n",
      "runnin:  31\n",
      "KNN 0.7567567567567568\n",
      "runnin:  32\n",
      "KNN 0.7567567567567568\n",
      "runnin:  33\n",
      "KNN 0.7567567567567568\n",
      "runnin:  34\n",
      "KNN 0.7567567567567568\n",
      "runnin:  35\n",
      "KNN 0.7567567567567568\n",
      "runnin:  36\n",
      "KNN 0.7567567567567568\n",
      "runnin:  37\n",
      "KNN 0.7567567567567568\n",
      "runnin:  38\n",
      "KNN 0.7567567567567568\n",
      "runnin:  39\n",
      "KNN 0.7567567567567568\n",
      "runnin:  40\n",
      "KNN 0.7567567567567568\n",
      "runnin:  41\n",
      "KNN 0.7567567567567568\n",
      "runnin:  42\n",
      "KNN 0.7567567567567568\n",
      "runnin:  43\n",
      "KNN 0.7567567567567568\n",
      "runnin:  44\n",
      "KNN 0.7567567567567568\n",
      "runnin:  45\n",
      "KNN 0.7567567567567568\n",
      "runnin:  46\n",
      "KNN 0.7567567567567568\n",
      "runnin:  47\n",
      "KNN 0.7567567567567568\n",
      "runnin:  48\n",
      "KNN 0.7567567567567568\n",
      "runnin:  49\n",
      "KNN 0.7567567567567568\n",
      "runnin:  50\n",
      "KNN 0.7567567567567568\n",
      "runnin:  51\n",
      "KNN 0.7567567567567568\n",
      "runnin:  52\n",
      "KNN 0.7567567567567568\n",
      "runnin:  53\n",
      "KNN 0.7567567567567568\n",
      "runnin:  54\n",
      "KNN 0.7567567567567568\n",
      "runnin:  55\n",
      "KNN 0.7567567567567568\n",
      "runnin:  56\n",
      "KNN 0.7567567567567568\n",
      "runnin:  57\n",
      "KNN 0.7567567567567568\n",
      "runnin:  58\n",
      "KNN 0.7567567567567568\n",
      "runnin:  59\n",
      "KNN 0.7567567567567568\n",
      "runnin:  60\n",
      "KNN 0.7567567567567568\n",
      "runnin:  61\n",
      "KNN 0.7567567567567568\n",
      "runnin:  62\n",
      "KNN 0.7567567567567568\n",
      "runnin:  63\n",
      "KNN 0.7567567567567568\n",
      "runnin:  64\n",
      "KNN 0.7567567567567568\n",
      "runnin:  65\n",
      "KNN 0.7567567567567568\n",
      "runnin:  66\n",
      "KNN 0.7567567567567568\n",
      "runnin:  67\n",
      "KNN 0.7567567567567568\n",
      "runnin:  68\n",
      "KNN 0.7567567567567568\n",
      "runnin:  69\n",
      "KNN 0.7567567567567568\n",
      "runnin:  70\n",
      "KNN 0.7567567567567568\n",
      "runnin:  71\n",
      "KNN 0.7567567567567568\n",
      "runnin:  72\n",
      "KNN 0.7567567567567568\n",
      "runnin:  73\n",
      "KNN 0.7567567567567568\n",
      "runnin:  74\n",
      "KNN 0.7567567567567568\n",
      "runnin:  75\n",
      "KNN 0.7567567567567568\n",
      "runnin:  76\n",
      "KNN 0.7567567567567568\n",
      "runnin:  77\n",
      "KNN 0.7567567567567568\n",
      "runnin:  78\n",
      "KNN 0.7567567567567568\n",
      "runnin:  79\n",
      "KNN 0.7567567567567568\n",
      "runnin:  80\n",
      "KNN 0.7567567567567568\n",
      "runnin:  81\n",
      "KNN 0.7567567567567568\n",
      "runnin:  82\n",
      "KNN 0.7567567567567568\n",
      "runnin:  83\n",
      "KNN 0.7567567567567568\n",
      "runnin:  84\n",
      "KNN 0.7567567567567568\n",
      "runnin:  85\n",
      "KNN 0.7567567567567568\n",
      "runnin:  86\n",
      "KNN 0.7567567567567568\n",
      "runnin:  87\n",
      "KNN 0.7567567567567568\n",
      "runnin:  88\n",
      "KNN 0.7567567567567568\n",
      "runnin:  89\n",
      "KNN 0.7567567567567568\n",
      "runnin:  90\n",
      "KNN 0.7567567567567568\n",
      "runnin:  91\n",
      "KNN 0.7567567567567568\n",
      "runnin:  92\n",
      "KNN 0.7567567567567568\n",
      "runnin:  93\n",
      "KNN 0.7567567567567568\n",
      "runnin:  94\n",
      "KNN 0.7567567567567568\n",
      "runnin:  95\n",
      "KNN 0.7567567567567568\n",
      "runnin:  96\n",
      "KNN 0.7567567567567568\n",
      "runnin:  97\n",
      "KNN 0.7567567567567568\n",
      "runnin:  98\n",
      "KNN 0.7567567567567568\n",
      "runnin:  99\n",
      "KNN 0.7567567567567568\n",
      "runnin:  100\n",
      "KNN 0.7567567567567568\n",
      "runnin:  101\n",
      "KNN 0.7567567567567568\n",
      "runnin:  102\n",
      "KNN 0.7567567567567568\n",
      "runnin:  103\n",
      "KNN 0.7567567567567568\n",
      "runnin:  104\n",
      "KNN 0.7567567567567568\n",
      "runnin:  105\n",
      "KNN 0.7567567567567568\n",
      "runnin:  106\n",
      "KNN 0.7567567567567568\n",
      "runnin:  107\n",
      "KNN 0.7567567567567568\n",
      "runnin:  108\n",
      "KNN 0.7567567567567568\n",
      "runnin:  109\n",
      "KNN 0.7567567567567568\n",
      "runnin:  110\n",
      "KNN 0.7567567567567568\n",
      "runnin:  111\n",
      "KNN 0.7567567567567568\n",
      "runnin:  112\n",
      "KNN 0.7567567567567568\n",
      "runnin:  113\n",
      "KNN 0.7567567567567568\n",
      "runnin:  114\n",
      "KNN 0.7567567567567568\n",
      "runnin:  115\n",
      "KNN 0.7567567567567568\n",
      "runnin:  116\n",
      "KNN 0.7567567567567568\n",
      "runnin:  117\n",
      "KNN 0.7567567567567568\n",
      "runnin:  118\n",
      "KNN 0.7567567567567568\n",
      "runnin:  119\n",
      "KNN 0.7567567567567568\n",
      "runnin:  120\n",
      "KNN 0.7567567567567568\n",
      "runnin:  121\n",
      "KNN 0.7567567567567568\n",
      "runnin:  122\n",
      "KNN 0.7567567567567568\n",
      "runnin:  123\n",
      "KNN 0.7567567567567568\n",
      "runnin:  124\n",
      "KNN 0.7567567567567568\n",
      "runnin:  125\n",
      "KNN 0.7567567567567568\n",
      "runnin:  126\n",
      "KNN 0.7567567567567568\n",
      "runnin:  127\n",
      "KNN 0.7567567567567568\n",
      "runnin:  128\n",
      "KNN 0.7567567567567568\n",
      "runnin:  129\n",
      "KNN 0.7567567567567568\n",
      "runnin:  130\n",
      "KNN 0.7567567567567568\n",
      "runnin:  131\n",
      "KNN 0.7567567567567568\n",
      "runnin:  132\n",
      "KNN 0.7567567567567568\n",
      "runnin:  133\n",
      "KNN 0.7567567567567568\n",
      "runnin:  134\n",
      "KNN 0.7567567567567568\n",
      "runnin:  135\n",
      "KNN 0.7567567567567568\n",
      "runnin:  136\n",
      "KNN 0.7567567567567568\n",
      "runnin:  137\n",
      "KNN 0.7567567567567568\n",
      "runnin:  138\n",
      "KNN 0.7567567567567568\n",
      "runnin:  139\n",
      "KNN 0.7567567567567568\n",
      "runnin:  140\n",
      "KNN 0.7567567567567568\n",
      "runnin:  141\n",
      "KNN 0.7567567567567568\n",
      "runnin:  142\n",
      "KNN 0.7567567567567568\n",
      "runnin:  143\n",
      "KNN 0.7567567567567568\n",
      "runnin:  144\n",
      "KNN 0.7567567567567568\n",
      "runnin:  145\n",
      "KNN 0.7567567567567568\n",
      "runnin:  146\n",
      "KNN 0.7567567567567568\n",
      "runnin:  147\n",
      "KNN 0.7567567567567568\n",
      "runnin:  148\n",
      "KNN 0.7567567567567568\n",
      "runnin:  149\n",
      "KNN 0.7567567567567568\n"
     ]
    }
   ],
   "source": [
    "# KNN\n",
    "# use elbow method to find the best K \n",
    "from sklearn.neighbors import KNeighborsClassifier\n",
    "error_rate = []\n",
    "for i in range(1,150):\n",
    "    print('runnin: ',i)\n",
    "    knn = KNeighborsClassifier(n_neighbors=i)\n",
    "    knn.fit(X_train, y_train)\n",
    "    pred_i = knn.predict(X_test)\n",
    "    error_rate.append(np.mean(pred_i != y_test)) \n",
    "    print('KNN',accuracy_score(y_test,pred_i))"
   ]
  },
  {
   "cell_type": "code",
   "execution_count": 23,
   "id": "hairy-number",
   "metadata": {
    "execution": {
     "iopub.execute_input": "2021-05-19T08:27:04.540632Z",
     "iopub.status.busy": "2021-05-19T08:27:04.526261Z",
     "iopub.status.idle": "2021-05-19T08:27:04.689207Z",
     "shell.execute_reply": "2021-05-19T08:27:04.688642Z"
    },
    "papermill": {
     "duration": 0.239408,
     "end_time": "2021-05-19T08:27:04.689364",
     "exception": false,
     "start_time": "2021-05-19T08:27:04.449956",
     "status": "completed"
    },
    "tags": []
   },
   "outputs": [
    {
     "name": "stdout",
     "output_type": "stream",
     "text": [
      "When K is between around 4 to 11 the error rate is the lowest, so we will pick value 4 as the best K\n"
     ]
    },
    {
     "data": {
      "image/png": "[encoded data removed]",
      "text/plain": [
       "<Figure size 720x432 with 1 Axes>"
      ]
     },
     "metadata": {
      "needs_background": "light"
     },
     "output_type": "display_data"
    }
   ],
   "source": [
    "plt.figure(figsize=(10,6))\n",
    "plt.plot(range(1,150), error_rate, color='blue', linestyle = 'dashed', marker='o', markerfacecolor='red',markersize=10)\n",
    "plt.title('Error Rate vs K Value')\n",
    "plt.xlabel('K')\n",
    "plt.ylabel('Error Rate')\n",
    "print('When K is between around 4 to 11 the error rate is the lowest, so we will pick value 4 as the best K')"
   ]
  },
  {
   "cell_type": "code",
   "execution_count": 24,
   "id": "senior-regard",
   "metadata": {
    "execution": {
     "iopub.execute_input": "2021-05-19T08:27:04.785305Z",
     "iopub.status.busy": "2021-05-19T08:27:04.784604Z",
     "iopub.status.idle": "2021-05-19T08:27:04.799052Z",
     "shell.execute_reply": "2021-05-19T08:27:04.798333Z"
    },
    "papermill": {
     "duration": 0.064821,
     "end_time": "2021-05-19T08:27:04.799205",
     "exception": false,
     "start_time": "2021-05-19T08:27:04.734384",
     "status": "completed"
    },
    "tags": []
   },
   "outputs": [
    {
     "name": "stdout",
     "output_type": "stream",
     "text": [
      "              precision    recall  f1-score   support\n",
      "\n",
      "           0       0.79      0.98      0.87        56\n",
      "           1       0.75      0.17      0.27        18\n",
      "\n",
      "    accuracy                           0.78        74\n",
      "   macro avg       0.77      0.57      0.57        74\n",
      "weighted avg       0.78      0.78      0.73        74\n",
      "\n",
      "Accuracy KNN: 0.7837837837837838\n"
     ]
    }
   ],
   "source": [
    "knn = KNeighborsClassifier(n_neighbors=4)\n",
    "knn.fit(X_train, y_train)\n",
    "knn_pred = knn.predict(X_test)\n",
    "print(classification_report(y_test,knn_pred))\n",
    "print('Accuracy KNN:',accuracy_score(y_test,knn_pred))"
   ]
  },
  {
   "cell_type": "code",
   "execution_count": 25,
   "id": "worthy-garage",
   "metadata": {
    "execution": {
     "iopub.execute_input": "2021-05-19T08:27:04.895149Z",
     "iopub.status.busy": "2021-05-19T08:27:04.894238Z",
     "iopub.status.idle": "2021-05-19T08:27:05.560200Z",
     "shell.execute_reply": "2021-05-19T08:27:05.560663Z"
    },
    "papermill": {
     "duration": 0.716846,
     "end_time": "2021-05-19T08:27:05.560863",
     "exception": false,
     "start_time": "2021-05-19T08:27:04.844017",
     "status": "completed"
    },
    "tags": []
   },
   "outputs": [
    {
     "name": "stdout",
     "output_type": "stream",
     "text": [
      "              precision    recall  f1-score   support\n",
      "\n",
      "           0       0.84      0.93      0.88        56\n",
      "           1       0.67      0.44      0.53        18\n",
      "\n",
      "    accuracy                           0.81        74\n",
      "   macro avg       0.75      0.69      0.71        74\n",
      "weighted avg       0.80      0.81      0.80        74\n",
      "\n",
      "Accuracy RFC 0.8108108108108109\n"
     ]
    }
   ],
   "source": [
    "# Random Forest\n",
    "from sklearn.ensemble import RandomForestClassifier\n",
    "rfc = RandomForestClassifier(n_estimators=300)\n",
    "rfc.fit(X_train, y_train)\n",
    "rfc_pred = rfc.predict(X_test)\n",
    "print(classification_report(y_test,rfc_pred))\n",
    "print('Accuracy RFC',accuracy_score(y_test,rfc_pred))"
   ]
  },
  {
   "cell_type": "code",
   "execution_count": 26,
   "id": "colored-fountain",
   "metadata": {
    "execution": {
     "iopub.execute_input": "2021-05-19T08:27:05.658611Z",
     "iopub.status.busy": "2021-05-19T08:27:05.657980Z",
     "iopub.status.idle": "2021-05-19T08:27:05.669287Z",
     "shell.execute_reply": "2021-05-19T08:27:05.669981Z"
    },
    "papermill": {
     "duration": 0.064078,
     "end_time": "2021-05-19T08:27:05.670225",
     "exception": false,
     "start_time": "2021-05-19T08:27:05.606147",
     "status": "completed"
    },
    "tags": []
   },
   "outputs": [
    {
     "name": "stdout",
     "output_type": "stream",
     "text": [
      "              precision    recall  f1-score   support\n",
      "\n",
      "           0       0.82      0.96      0.89        56\n",
      "           1       0.75      0.33      0.46        18\n",
      "\n",
      "    accuracy                           0.81        74\n",
      "   macro avg       0.78      0.65      0.67        74\n",
      "weighted avg       0.80      0.81      0.78        74\n",
      "\n",
      "SVM 0.8108108108108109\n"
     ]
    }
   ],
   "source": [
    "# SVM\n",
    "from sklearn.svm import SVC\n",
    "svm = SVC()\n",
    "svm.fit(X_train, y_train)\n",
    "svm_pred = svm.predict(X_test)\n",
    "print(classification_report(y_test,svm_pred))\n",
    "print('SVM',accuracy_score(y_test,svm_pred))"
   ]
  },
  {
   "cell_type": "code",
   "execution_count": 27,
   "id": "adapted-twelve",
   "metadata": {
    "execution": {
     "iopub.execute_input": "2021-05-19T08:27:05.774584Z",
     "iopub.status.busy": "2021-05-19T08:27:05.770026Z",
     "iopub.status.idle": "2021-05-19T08:27:06.695876Z",
     "shell.execute_reply": "2021-05-19T08:27:06.695337Z"
    },
    "papermill": {
     "duration": 0.979125,
     "end_time": "2021-05-19T08:27:06.696030",
     "exception": false,
     "start_time": "2021-05-19T08:27:05.716905",
     "status": "completed"
    },
    "tags": []
   },
   "outputs": [
    {
     "name": "stdout",
     "output_type": "stream",
     "text": [
      "Fitting 5 folds for each of 25 candidates, totalling 125 fits\n",
      "[CV 1/5] END .................................C=0.1, gamma=1; total time=   0.0s\n",
      "[CV 2/5] END .................................C=0.1, gamma=1; total time=   0.0s\n",
      "[CV 3/5] END .................................C=0.1, gamma=1; total time=   0.0s\n",
      "[CV 4/5] END .................................C=0.1, gamma=1; total time=   0.0s\n",
      "[CV 5/5] END .................................C=0.1, gamma=1; total time=   0.0s\n",
      "[CV 1/5] END ...............................C=0.1, gamma=0.1; total time=   0.0s\n",
      "[CV 2/5] END ...............................C=0.1, gamma=0.1; total time=   0.0s\n",
      "[CV 3/5] END ...............................C=0.1, gamma=0.1; total time=   0.0s\n",
      "[CV 4/5] END ...............................C=0.1, gamma=0.1; total time=   0.0s\n",
      "[CV 5/5] END ...............................C=0.1, gamma=0.1; total time=   0.0s\n",
      "[CV 1/5] END ..............................C=0.1, gamma=0.01; total time=   0.0s\n",
      "[CV 2/5] END ..............................C=0.1, gamma=0.01; total time=   0.0s\n",
      "[CV 3/5] END ..............................C=0.1, gamma=0.01; total time=   0.0s\n",
      "[CV 4/5] END ..............................C=0.1, gamma=0.01; total time=   0.0s\n",
      "[CV 5/5] END ..............................C=0.1, gamma=0.01; total time=   0.0s\n",
      "[CV 1/5] END .............................C=0.1, gamma=0.001; total time=   0.0s\n",
      "[CV 2/5] END .............................C=0.1, gamma=0.001; total time=   0.0s\n",
      "[CV 3/5] END .............................C=0.1, gamma=0.001; total time=   0.0s\n",
      "[CV 4/5] END .............................C=0.1, gamma=0.001; total time=   0.0s\n",
      "[CV 5/5] END .............................C=0.1, gamma=0.001; total time=   0.0s\n",
      "[CV 1/5] END ............................C=0.1, gamma=0.0001; total time=   0.0s\n",
      "[CV 2/5] END ............................C=0.1, gamma=0.0001; total time=   0.0s\n",
      "[CV 3/5] END ............................C=0.1, gamma=0.0001; total time=   0.0s\n",
      "[CV 4/5] END ............................C=0.1, gamma=0.0001; total time=   0.0s\n",
      "[CV 5/5] END ............................C=0.1, gamma=0.0001; total time=   0.0s\n",
      "[CV 1/5] END ...................................C=1, gamma=1; total time=   0.0s\n",
      "[CV 2/5] END ...................................C=1, gamma=1; total time=   0.0s\n",
      "[CV 3/5] END ...................................C=1, gamma=1; total time=   0.0s\n",
      "[CV 4/5] END ...................................C=1, gamma=1; total time=   0.0s\n",
      "[CV 5/5] END ...................................C=1, gamma=1; total time=   0.0s\n",
      "[CV 1/5] END .................................C=1, gamma=0.1; total time=   0.0s\n",
      "[CV 2/5] END .................................C=1, gamma=0.1; total time=   0.0s\n",
      "[CV 3/5] END .................................C=1, gamma=0.1; total time=   0.0s\n",
      "[CV 4/5] END .................................C=1, gamma=0.1; total time=   0.0s\n",
      "[CV 5/5] END .................................C=1, gamma=0.1; total time=   0.0s\n",
      "[CV 1/5] END ................................C=1, gamma=0.01; total time=   0.0s\n",
      "[CV 2/5] END ................................C=1, gamma=0.01; total time=   0.0s\n",
      "[CV 3/5] END ................................C=1, gamma=0.01; total time=   0.0s\n",
      "[CV 4/5] END ................................C=1, gamma=0.01; total time=   0.0s\n",
      "[CV 5/5] END ................................C=1, gamma=0.01; total time=   0.0s\n",
      "[CV 1/5] END ...............................C=1, gamma=0.001; total time=   0.0s\n",
      "[CV 2/5] END ...............................C=1, gamma=0.001; total time=   0.0s\n",
      "[CV 3/5] END ...............................C=1, gamma=0.001; total time=   0.0s\n",
      "[CV 4/5] END ...............................C=1, gamma=0.001; total time=   0.0s\n",
      "[CV 5/5] END ...............................C=1, gamma=0.001; total time=   0.0s\n",
      "[CV 1/5] END ..............................C=1, gamma=0.0001; total time=   0.0s\n",
      "[CV 2/5] END ..............................C=1, gamma=0.0001; total time=   0.0s\n",
      "[CV 3/5] END ..............................C=1, gamma=0.0001; total time=   0.0s\n",
      "[CV 4/5] END ..............................C=1, gamma=0.0001; total time=   0.0s\n",
      "[CV 5/5] END ..............................C=1, gamma=0.0001; total time=   0.0s\n",
      "[CV 1/5] END ..................................C=10, gamma=1; total time=   0.0s\n",
      "[CV 2/5] END ..................................C=10, gamma=1; total time=   0.0s\n",
      "[CV 3/5] END ..................................C=10, gamma=1; total time=   0.0s\n",
      "[CV 4/5] END ..................................C=10, gamma=1; total time=   0.0s\n",
      "[CV 5/5] END ..................................C=10, gamma=1; total time=   0.0s\n",
      "[CV 1/5] END ................................C=10, gamma=0.1; total time=   0.0s\n",
      "[CV 2/5] END ................................C=10, gamma=0.1; total time=   0.0s\n",
      "[CV 3/5] END ................................C=10, gamma=0.1; total time=   0.0s\n",
      "[CV 4/5] END ................................C=10, gamma=0.1; total time=   0.0s\n",
      "[CV 5/5] END ................................C=10, gamma=0.1; total time=   0.0s\n",
      "[CV 1/5] END ...............................C=10, gamma=0.01; total time=   0.0s\n",
      "[CV 2/5] END ...............................C=10, gamma=0.01; total time=   0.0s\n",
      "[CV 3/5] END ...............................C=10, gamma=0.01; total time=   0.0s\n",
      "[CV 4/5] END ...............................C=10, gamma=0.01; total time=   0.0s\n",
      "[CV 5/5] END ...............................C=10, gamma=0.01; total time=   0.0s\n",
      "[CV 1/5] END ..............................C=10, gamma=0.001; total time=   0.0s\n",
      "[CV 2/5] END ..............................C=10, gamma=0.001; total time=   0.0s\n",
      "[CV 3/5] END ..............................C=10, gamma=0.001; total time=   0.0s\n",
      "[CV 4/5] END ..............................C=10, gamma=0.001; total time=   0.0s\n",
      "[CV 5/5] END ..............................C=10, gamma=0.001; total time=   0.0s\n",
      "[CV 1/5] END .............................C=10, gamma=0.0001; total time=   0.0s\n",
      "[CV 2/5] END .............................C=10, gamma=0.0001; total time=   0.0s\n",
      "[CV 3/5] END .............................C=10, gamma=0.0001; total time=   0.0s\n",
      "[CV 4/5] END .............................C=10, gamma=0.0001; total time=   0.0s\n",
      "[CV 5/5] END .............................C=10, gamma=0.0001; total time=   0.0s\n",
      "[CV 1/5] END .................................C=100, gamma=1; total time=   0.0s\n",
      "[CV 2/5] END .................................C=100, gamma=1; total time=   0.0s\n",
      "[CV 3/5] END .................................C=100, gamma=1; total time=   0.0s\n",
      "[CV 4/5] END .................................C=100, gamma=1; total time=   0.0s\n",
      "[CV 5/5] END .................................C=100, gamma=1; total time=   0.0s\n",
      "[CV 1/5] END ...............................C=100, gamma=0.1; total time=   0.0s\n",
      "[CV 2/5] END ...............................C=100, gamma=0.1; total time=   0.0s\n",
      "[CV 3/5] END ...............................C=100, gamma=0.1; total time=   0.0s\n",
      "[CV 4/5] END ...............................C=100, gamma=0.1; total time=   0.0s\n",
      "[CV 5/5] END ...............................C=100, gamma=0.1; total time=   0.0s\n",
      "[CV 1/5] END ..............................C=100, gamma=0.01; total time=   0.0s\n",
      "[CV 2/5] END ..............................C=100, gamma=0.01; total time=   0.0s\n",
      "[CV 3/5] END ..............................C=100, gamma=0.01; total time=   0.0s\n",
      "[CV 4/5] END ..............................C=100, gamma=0.01; total time=   0.0s\n",
      "[CV 5/5] END ..............................C=100, gamma=0.01; total time=   0.0s\n",
      "[CV 1/5] END .............................C=100, gamma=0.001; total time=   0.0s\n",
      "[CV 2/5] END .............................C=100, gamma=0.001; total time=   0.0s\n",
      "[CV 3/5] END .............................C=100, gamma=0.001; total time=   0.0s\n",
      "[CV 4/5] END .............................C=100, gamma=0.001; total time=   0.0s\n",
      "[CV 5/5] END .............................C=100, gamma=0.001; total time=   0.0s\n",
      "[CV 1/5] END ............................C=100, gamma=0.0001; total time=   0.0s\n",
      "[CV 2/5] END ............................C=100, gamma=0.0001; total time=   0.0s\n",
      "[CV 3/5] END ............................C=100, gamma=0.0001; total time=   0.0s\n",
      "[CV 4/5] END ............................C=100, gamma=0.0001; total time=   0.0s\n",
      "[CV 5/5] END ............................C=100, gamma=0.0001; total time=   0.0s\n",
      "[CV 1/5] END ................................C=1000, gamma=1; total time=   0.0s\n",
      "[CV 2/5] END ................................C=1000, gamma=1; total time=   0.0s\n",
      "[CV 3/5] END ................................C=1000, gamma=1; total time=   0.0s\n",
      "[CV 4/5] END ................................C=1000, gamma=1; total time=   0.0s\n",
      "[CV 5/5] END ................................C=1000, gamma=1; total time=   0.0s\n",
      "[CV 1/5] END ..............................C=1000, gamma=0.1; total time=   0.0s\n",
      "[CV 2/5] END ..............................C=1000, gamma=0.1; total time=   0.0s\n",
      "[CV 3/5] END ..............................C=1000, gamma=0.1; total time=   0.0s\n",
      "[CV 4/5] END ..............................C=1000, gamma=0.1; total time=   0.0s\n",
      "[CV 5/5] END ..............................C=1000, gamma=0.1; total time=   0.0s\n",
      "[CV 1/5] END .............................C=1000, gamma=0.01; total time=   0.0s\n",
      "[CV 2/5] END .............................C=1000, gamma=0.01; total time=   0.0s\n",
      "[CV 3/5] END .............................C=1000, gamma=0.01; total time=   0.0s\n",
      "[CV 4/5] END .............................C=1000, gamma=0.01; total time=   0.0s\n",
      "[CV 5/5] END .............................C=1000, gamma=0.01; total time=   0.0s\n",
      "[CV 1/5] END ............................C=1000, gamma=0.001; total time=   0.0s\n",
      "[CV 2/5] END ............................C=1000, gamma=0.001; total time=   0.0s\n",
      "[CV 3/5] END ............................C=1000, gamma=0.001; total time=   0.0s\n",
      "[CV 4/5] END ............................C=1000, gamma=0.001; total time=   0.0s\n",
      "[CV 5/5] END ............................C=1000, gamma=0.001; total time=   0.0s\n",
      "[CV 1/5] END ...........................C=1000, gamma=0.0001; total time=   0.0s\n",
      "[CV 2/5] END ...........................C=1000, gamma=0.0001; total time=   0.0s\n",
      "[CV 3/5] END ...........................C=1000, gamma=0.0001; total time=   0.0s\n",
      "[CV 4/5] END ...........................C=1000, gamma=0.0001; total time=   0.0s\n",
      "[CV 5/5] END ...........................C=1000, gamma=0.0001; total time=   0.0s\n"
     ]
    },
    {
     "data": {
      "text/plain": [
       "GridSearchCV(estimator=SVC(probability=True),\n",
       "             param_grid={'C': [0.1, 1, 10, 100, 1000],\n",
       "                         'gamma': [1, 0.1, 0.01, 0.001, 0.0001]},\n",
       "             verbose=3)"
      ]
     },
     "execution_count": 27,
     "metadata": {},
     "output_type": "execute_result"
    }
   ],
   "source": [
    "#grid search\n",
    "from sklearn.model_selection import GridSearchCV\n",
    "param_grid = {'C':[0.1,1,10,100,1000], 'gamma':[1,0.1,0.01,0.001,0.0001]}\n",
    "grid = GridSearchCV(SVC(probability=True),param_grid, verbose = 3)\n",
    "grid.fit(X_train,y_train)"
   ]
  },
  {
   "cell_type": "code",
   "execution_count": 28,
   "id": "sacred-tiffany",
   "metadata": {
    "execution": {
     "iopub.execute_input": "2021-05-19T08:27:06.798742Z",
     "iopub.status.busy": "2021-05-19T08:27:06.798020Z",
     "iopub.status.idle": "2021-05-19T08:27:06.815913Z",
     "shell.execute_reply": "2021-05-19T08:27:06.816583Z"
    },
    "papermill": {
     "duration": 0.072907,
     "end_time": "2021-05-19T08:27:06.816920",
     "exception": false,
     "start_time": "2021-05-19T08:27:06.744013",
     "status": "completed"
    },
    "tags": []
   },
   "outputs": [
    {
     "name": "stdout",
     "output_type": "stream",
     "text": [
      "              precision    recall  f1-score   support\n",
      "\n",
      "           0       0.82      0.96      0.89        56\n",
      "           1       0.75      0.33      0.46        18\n",
      "\n",
      "    accuracy                           0.81        74\n",
      "   macro avg       0.78      0.65      0.67        74\n",
      "weighted avg       0.80      0.81      0.78        74\n",
      "\n",
      "SVM 0.8108108108108109\n"
     ]
    }
   ],
   "source": [
    "# Use the best gamma and c value for svm after grid search\n",
    "from sklearn.svm import SVC\n",
    "svm = SVC(probability=True)\n",
    "svm.fit(X_train, y_train)\n",
    "svm_pred = svm.predict(X_test)\n",
    "print(classification_report(y_test,svm_pred))\n",
    "print('SVM',accuracy_score(y_test,svm_pred))"
   ]
  },
  {
   "cell_type": "markdown",
   "id": "social-fraud",
   "metadata": {
    "papermill": {
     "duration": 0.051231,
     "end_time": "2021-05-19T08:27:06.918877",
     "exception": false,
     "start_time": "2021-05-19T08:27:06.867646",
     "status": "completed"
    },
    "tags": []
   },
   "source": [
    "Out of all the models, I will think of the Random Forest model as the best among them because in this situation, other than having highest accuracy, what is most important is to accurately detect Death Events. Which means if a person died, is the model actually classifying that event as DEATH_EVENT= False. So I will give importance to the recall metrics. Among all the models tested, Random Forest model has the highest recall value and therefore it is the best among all these models."
   ]
  },
  {
   "cell_type": "code",
   "execution_count": null,
   "id": "english-boxing",
   "metadata": {
    "papermill": {
     "duration": 0.049166,
     "end_time": "2021-05-19T08:27:07.017423",
     "exception": false,
     "start_time": "2021-05-19T08:27:06.968257",
     "status": "completed"
    },
    "tags": []
   },
   "outputs": [],
   "source": []
  }
 ],
 "metadata": {
  "kernelspec": {
   "display_name": "Python 3",
   "language": "python",
   "name": "python3"
  },
  "language_info": {
   "codemirror_mode": {
    "name": "ipython",
    "version": 3
   },
   "file_extension": ".py",
   "mimetype": "text/x-python",
   "name": "python",
   "nbconvert_exporter": "python",
   "pygments_lexer": "ipython3",
   "version": "3.9.2"
  },
  "papermill": {
   "default_parameters": {},
   "duration": 18.474865,
   "end_time": "2021-05-19T08:27:07.879610",
   "environment_variables": {},
   "exception": null,
   "input_path": "__notebook__.ipynb",
   "output_path": "__notebook__.ipynb",
   "parameters": {},
   "start_time": "2021-05-19T08:26:49.404745",
   "version": "2.3.3"
  }
 },
 "nbformat": 4,
 "nbformat_minor": 5
}
